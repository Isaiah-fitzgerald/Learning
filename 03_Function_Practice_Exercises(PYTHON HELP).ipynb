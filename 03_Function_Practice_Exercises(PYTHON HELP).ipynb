{
  "nbformat": 4,
  "nbformat_minor": 0,
  "metadata": {
    "kernelspec": {
      "display_name": "Python 3",
      "language": "python",
      "name": "python3"
    },
    "language_info": {
      "codemirror_mode": {
        "name": "ipython",
        "version": 3
      },
      "file_extension": ".py",
      "mimetype": "text/x-python",
      "name": "python",
      "nbconvert_exporter": "python",
      "pygments_lexer": "ipython3",
      "version": "3.6.6"
    },
    "colab": {
      "name": "03-Function Practice Exercises.ipynb",
      "provenance": [],
      "collapsed_sections": [],
      "include_colab_link": true
    }
  },
  "cells": [
    {
      "cell_type": "markdown",
      "metadata": {
        "id": "view-in-github",
        "colab_type": "text"
      },
      "source": [
        "<a href=\"https://colab.research.google.com/github/eclipserain/Learning/blob/main/03_Function_Practice_Exercises(PYTHON%20HELP).ipynb\" target=\"_parent\"><img src=\"https://colab.research.google.com/assets/colab-badge.svg\" alt=\"Open In Colab\"/></a>"
      ]
    },
    {
      "cell_type": "markdown",
      "metadata": {
        "id": "mBLLJ5u0hPIU"
      },
      "source": [
        "___\n",
        "\n",
        "<a href='https://www.udemy.com/user/joseportilla/'><img src='../Pierian_Data_Logo.png'/></a>\n",
        "___\n",
        "<center><em>Content Copyright by Pierian Data</em></center>"
      ]
    },
    {
      "cell_type": "markdown",
      "metadata": {
        "id": "EPuj4A-BhPIW"
      },
      "source": [
        "# Function Practice Exercises\n",
        "\n",
        "Problems are arranged in increasing difficulty:\n",
        "* Warmup - these can be solved using basic comparisons and methods\n",
        "* Level 1 - these may involve if/then conditional statements and simple methods\n",
        "* Level 2 - these may require iterating over sequences, usually with some kind of loop\n",
        "* Challenging - these will take some creativity to solve"
      ]
    },
    {
      "cell_type": "markdown",
      "metadata": {
        "id": "ta_dbgRVhPIW"
      },
      "source": [
        "## WARMUP SECTION:"
      ]
    },
    {
      "cell_type": "markdown",
      "metadata": {
        "id": "yvtOoTKLhPIX"
      },
      "source": [
        "#### LESSER OF TWO EVENS: Write a function that returns the lesser of two given numbers *if* both numbers are even, but returns the greater if one or both numbers are odd\n",
        "    lesser_of_two_evens(2,4) --> 2\n",
        "    lesser_of_two_evens(2,5) --> 5"
      ]
    },
    {
      "cell_type": "code",
      "metadata": {
        "collapsed": true,
        "id": "q9D797B8hPIX"
      },
      "source": [
        "def lesser_of_two_evens(a,b):\n",
        "    if (a%2==0) and (b%2==0):\n",
        "      return min(a,b)   \n",
        "    else:\n",
        "      return max(a,b)"
      ],
      "execution_count": 599,
      "outputs": []
    },
    {
      "cell_type": "markdown",
      "metadata": {
        "id": "utBLPSl_RxZw"
      },
      "source": [
        "alternative: return max(a,b)"
      ]
    },
    {
      "cell_type": "code",
      "metadata": {
        "collapsed": true,
        "colab": {
          "base_uri": "https://localhost:8080/"
        },
        "id": "y7xNslY7hPIX",
        "outputId": "19dbe05d-3088-4dcf-ab25-e84a17b08060"
      },
      "source": [
        "# Check\n",
        "lesser_of_two_evens(2,4)"
      ],
      "execution_count": 600,
      "outputs": [
        {
          "output_type": "execute_result",
          "data": {
            "text/plain": [
              "2"
            ]
          },
          "metadata": {
            "tags": []
          },
          "execution_count": 600
        }
      ]
    },
    {
      "cell_type": "code",
      "metadata": {
        "collapsed": true,
        "colab": {
          "base_uri": "https://localhost:8080/"
        },
        "id": "3l_4QsJPhPIY",
        "outputId": "0e10e1ed-e1b1-445f-cdf5-4dbda95d9557"
      },
      "source": [
        "# Check\n",
        "lesser_of_two_evens(2,5)"
      ],
      "execution_count": 601,
      "outputs": [
        {
          "output_type": "execute_result",
          "data": {
            "text/plain": [
              "5"
            ]
          },
          "metadata": {
            "tags": []
          },
          "execution_count": 601
        }
      ]
    },
    {
      "cell_type": "markdown",
      "metadata": {
        "id": "aCs-upOyhPIY"
      },
      "source": [
        "#### ANIMAL CRACKERS: Write a function takes a two-word string and returns True if both words begin with same letter\n",
        "    animal_crackers('Levelheaded Llama') --> True\n",
        "    animal_crackers('Crazy Kangaroo') --> False"
      ]
    },
    {
      "cell_type": "code",
      "metadata": {
        "collapsed": true,
        "id": "p90mKaoEhPIY"
      },
      "source": [
        "def animal_crackers(text):\n",
        "    wordlist = text.split()\n",
        "    first = wordlist[0]\n",
        "    second = wordlist[1]\n",
        "    return first[0] == second[0]"
      ],
      "execution_count": 605,
      "outputs": []
    },
    {
      "cell_type": "markdown",
      "metadata": {
        "id": "TGey4sOWS0XM"
      },
      "source": [
        "ALTERNATIVE:"
      ]
    },
    {
      "cell_type": "code",
      "metadata": {
        "id": "ssSwMggxS1_9"
      },
      "source": [
        "def animal_crackers(text):\r\n",
        "    wordlist = text.lower().split()\r\n",
        "    return wordlist[0][0] == wordlist[1][0]"
      ],
      "execution_count": 607,
      "outputs": []
    },
    {
      "cell_type": "markdown",
      "metadata": {
        "id": "yY8ENQZmTGJv"
      },
      "source": [
        "lower() makes lowercase before split"
      ]
    },
    {
      "cell_type": "code",
      "metadata": {
        "collapsed": true,
        "colab": {
          "base_uri": "https://localhost:8080/"
        },
        "id": "BMze7njfhPIY",
        "outputId": "86def728-fd04-4ee6-f5bc-e369f5c3a0c7"
      },
      "source": [
        "# Check\n",
        "animal_crackers('Levelheaded Llama')"
      ],
      "execution_count": 608,
      "outputs": [
        {
          "output_type": "execute_result",
          "data": {
            "text/plain": [
              "True"
            ]
          },
          "metadata": {
            "tags": []
          },
          "execution_count": 608
        }
      ]
    },
    {
      "cell_type": "code",
      "metadata": {
        "collapsed": true,
        "colab": {
          "base_uri": "https://localhost:8080/"
        },
        "id": "T9Tn1LIshPIZ",
        "outputId": "89f6d44c-353d-488e-fd13-a397dda9b728"
      },
      "source": [
        "# Check\n",
        "animal_crackers('Crazy Kangaroo')"
      ],
      "execution_count": 16,
      "outputs": [
        {
          "output_type": "execute_result",
          "data": {
            "text/plain": [
              "False"
            ]
          },
          "metadata": {
            "tags": []
          },
          "execution_count": 16
        }
      ]
    },
    {
      "cell_type": "markdown",
      "metadata": {
        "id": "fmU_mOrKhPIZ"
      },
      "source": [
        "#### MAKES TWENTY: Given two integers, return True if the sum of the integers is 20 *or* if one of the integers is 20. If not, return False\n",
        "\n",
        "    makes_twenty(20,10) --> True\n",
        "    makes_twenty(12,8) --> True\n",
        "    makes_twenty(2,3) --> False"
      ]
    },
    {
      "cell_type": "code",
      "metadata": {
        "collapsed": true,
        "id": "pVHzyoIZhPIZ"
      },
      "source": [
        "def makes_twenty(n1,n2):\n",
        "  return (n1+n2) == 20 or n1 == 20 or n2 == 20\n",
        "    "
      ],
      "execution_count": 610,
      "outputs": []
    },
    {
      "cell_type": "code",
      "metadata": {
        "collapsed": true,
        "colab": {
          "base_uri": "https://localhost:8080/"
        },
        "id": "A-0k-6rHhPIZ",
        "outputId": "f429e73f-328c-4374-81e2-86c573cdb418"
      },
      "source": [
        "# Check\n",
        "makes_twenty(20,10)"
      ],
      "execution_count": 611,
      "outputs": [
        {
          "output_type": "execute_result",
          "data": {
            "text/plain": [
              "True"
            ]
          },
          "metadata": {
            "tags": []
          },
          "execution_count": 611
        }
      ]
    },
    {
      "cell_type": "code",
      "metadata": {
        "collapsed": true,
        "colab": {
          "base_uri": "https://localhost:8080/"
        },
        "id": "w8eOkOYohPIZ",
        "outputId": "727f9ac4-853b-4af0-c261-e66ea3895bb6"
      },
      "source": [
        "# Check\n",
        "makes_twenty(2,3)"
      ],
      "execution_count": 612,
      "outputs": [
        {
          "output_type": "execute_result",
          "data": {
            "text/plain": [
              "False"
            ]
          },
          "metadata": {
            "tags": []
          },
          "execution_count": 612
        }
      ]
    },
    {
      "cell_type": "markdown",
      "metadata": {
        "id": "cQ74ef7JhPIa"
      },
      "source": [
        "# LEVEL 1 PROBLEMS"
      ]
    },
    {
      "cell_type": "markdown",
      "metadata": {
        "id": "Cb8lUwSHhPIa"
      },
      "source": [
        "#### OLD MACDONALD: Write a function that capitalizes the first and fourth letters of a name\n",
        "     \n",
        "    old_macdonald('macdonald') --> MacDonald\n",
        "    \n",
        "Note: `'macdonald'.capitalize()` returns `'Macdonald'`"
      ]
    },
    {
      "cell_type": "code",
      "metadata": {
        "collapsed": true,
        "id": "pJQ8EkA9hPIa"
      },
      "source": [
        "def old_macdonald(name):\n",
        "    return name[0:3].capitalize() + name[3:len(name)].capitalize()"
      ],
      "execution_count": 80,
      "outputs": []
    },
    {
      "cell_type": "code",
      "metadata": {
        "collapsed": true,
        "colab": {
          "base_uri": "https://localhost:8080/",
          "height": 35
        },
        "id": "TnNnCbpmhPIa",
        "outputId": "7c37465c-8e5c-47f9-dd11-64c85ba5dc79"
      },
      "source": [
        "# Check\n",
        "old_macdonald('macdonald')"
      ],
      "execution_count": 81,
      "outputs": [
        {
          "output_type": "execute_result",
          "data": {
            "application/vnd.google.colaboratory.intrinsic+json": {
              "type": "string"
            },
            "text/plain": [
              "'MacDonald'"
            ]
          },
          "metadata": {
            "tags": []
          },
          "execution_count": 81
        }
      ]
    },
    {
      "cell_type": "markdown",
      "metadata": {
        "id": "dl7nH5v3hPIa"
      },
      "source": [
        "#### MASTER YODA: Given a sentence, return a sentence with the words reversed\n",
        "\n",
        "    master_yoda('I am home') --> 'home am I'\n",
        "    master_yoda('We are ready') --> 'ready are We'\n",
        "    \n",
        "Note: The .join() method may be useful here. The .join() method allows you to join together strings in a list with some connector string. For example, some uses of the .join() method:\n",
        "\n",
        "    >>> \"--\".join(['a','b','c'])\n",
        "    >>> 'a--b--c'\n",
        "\n",
        "This means if you had a list of words you wanted to turn back into a sentence, you could just join them with a single space string:\n",
        "\n",
        "    >>> \" \".join(['Hello','world'])\n",
        "    >>> \"Hello world\""
      ]
    },
    {
      "cell_type": "code",
      "metadata": {
        "collapsed": true,
        "id": "FAr6EialhPIb"
      },
      "source": [
        "def master_yoda(text):\n",
        "  my_list_x = text.split()\n",
        "  my_list_x.reverse()\n",
        "  my_list_x = \" \".join(my_list_x)\n",
        "  return(my_list_x)"
      ],
      "execution_count": 133,
      "outputs": []
    },
    {
      "cell_type": "code",
      "metadata": {
        "collapsed": true,
        "colab": {
          "base_uri": "https://localhost:8080/",
          "height": 35
        },
        "id": "151jOvxrhPIb",
        "outputId": "64e28f34-51a0-4bc5-e7ff-672c7d5295d9"
      },
      "source": [
        "# Check\n",
        "master_yoda('I am home')"
      ],
      "execution_count": 134,
      "outputs": [
        {
          "output_type": "execute_result",
          "data": {
            "application/vnd.google.colaboratory.intrinsic+json": {
              "type": "string"
            },
            "text/plain": [
              "'home am I'"
            ]
          },
          "metadata": {
            "tags": []
          },
          "execution_count": 134
        }
      ]
    },
    {
      "cell_type": "code",
      "metadata": {
        "collapsed": true,
        "colab": {
          "base_uri": "https://localhost:8080/",
          "height": 35
        },
        "id": "7WnRhjZshPIb",
        "outputId": "806d656c-7ff4-431f-b91b-604def0cff05"
      },
      "source": [
        "# Check\n",
        "master_yoda('We are ready')"
      ],
      "execution_count": 135,
      "outputs": [
        {
          "output_type": "execute_result",
          "data": {
            "application/vnd.google.colaboratory.intrinsic+json": {
              "type": "string"
            },
            "text/plain": [
              "'ready are We'"
            ]
          },
          "metadata": {
            "tags": []
          },
          "execution_count": 135
        }
      ]
    },
    {
      "cell_type": "markdown",
      "metadata": {
        "id": "W3NIW7_XhPIb"
      },
      "source": [
        "#### ALMOST THERE: Given an integer n, return True if n is within 10 of either 100 or 200\n",
        "\n",
        "    almost_there(90) --> True\n",
        "    almost_there(104) --> True\n",
        "    almost_there(150) --> False\n",
        "    almost_there(209) --> True\n",
        "    \n",
        "NOTE: `abs(num)` returns the absolute value of a number"
      ]
    },
    {
      "cell_type": "code",
      "metadata": {
        "collapsed": true,
        "id": "SQBVo-L9hPIb"
      },
      "source": [
        "def almost_there(n):\n",
        "    if abs(100-n) <=10 or abs(200-n) <=10:\n",
        "      return True\n",
        "    return False"
      ],
      "execution_count": 162,
      "outputs": []
    },
    {
      "cell_type": "code",
      "metadata": {
        "collapsed": true,
        "colab": {
          "base_uri": "https://localhost:8080/"
        },
        "id": "Cbkk-7xrhPIb",
        "outputId": "5a62432b-d613-412e-800a-bca08de2ca1b"
      },
      "source": [
        "# Check\n",
        "almost_there(104)"
      ],
      "execution_count": 163,
      "outputs": [
        {
          "output_type": "execute_result",
          "data": {
            "text/plain": [
              "True"
            ]
          },
          "metadata": {
            "tags": []
          },
          "execution_count": 163
        }
      ]
    },
    {
      "cell_type": "code",
      "metadata": {
        "collapsed": true,
        "colab": {
          "base_uri": "https://localhost:8080/"
        },
        "id": "NIiDhFdWhPIc",
        "outputId": "245b2fe2-6054-4b6e-db96-147b140c8593"
      },
      "source": [
        "# Check\n",
        "almost_there(150)"
      ],
      "execution_count": 164,
      "outputs": [
        {
          "output_type": "execute_result",
          "data": {
            "text/plain": [
              "False"
            ]
          },
          "metadata": {
            "tags": []
          },
          "execution_count": 164
        }
      ]
    },
    {
      "cell_type": "code",
      "metadata": {
        "collapsed": true,
        "colab": {
          "base_uri": "https://localhost:8080/"
        },
        "id": "PEFjp81ghPIc",
        "outputId": "516929ab-7c20-4037-a525-3299de25e90b"
      },
      "source": [
        "# Check\n",
        "almost_there(209)"
      ],
      "execution_count": 165,
      "outputs": [
        {
          "output_type": "execute_result",
          "data": {
            "text/plain": [
              "True"
            ]
          },
          "metadata": {
            "tags": []
          },
          "execution_count": 165
        }
      ]
    },
    {
      "cell_type": "markdown",
      "metadata": {
        "id": "rHWYY1hfhPIc"
      },
      "source": [
        "# LEVEL 2 PROBLEMS"
      ]
    },
    {
      "cell_type": "markdown",
      "metadata": {
        "id": "3iQPA482hPIc"
      },
      "source": [
        "#### FIND 33: \n",
        "\n",
        "Given a list of ints, return True if the array contains a 3 next to a 3 somewhere.\n",
        "\n",
        "    has_33([1, 3, 3]) → True\n",
        "    has_33([1, 3, 1, 3]) → False\n",
        "    has_33([3, 1, 3]) → False"
      ]
    },
    {
      "cell_type": "code",
      "metadata": {
        "collapsed": true,
        "id": "aCtVaLQuhPIc"
      },
      "source": [
        "def has_33(nums):\n",
        "    for i in range(0,len(nums)-1):\n",
        "     if (nums[i:i+2] == [3,3]):\n",
        "       return True\n",
        "    return False"
      ],
      "execution_count": 506,
      "outputs": []
    },
    {
      "cell_type": "code",
      "metadata": {
        "collapsed": true,
        "colab": {
          "base_uri": "https://localhost:8080/"
        },
        "id": "yu_cE1rVhPId",
        "outputId": "77c7fe9e-9e80-499a-d647-9d6ce0fddadc"
      },
      "source": [
        "# Check\n",
        "has_33([1, 3, 3])"
      ],
      "execution_count": 507,
      "outputs": [
        {
          "output_type": "execute_result",
          "data": {
            "text/plain": [
              "True"
            ]
          },
          "metadata": {
            "tags": []
          },
          "execution_count": 507
        }
      ]
    },
    {
      "cell_type": "code",
      "metadata": {
        "collapsed": true,
        "colab": {
          "base_uri": "https://localhost:8080/"
        },
        "id": "ciw1YLbEhPId",
        "outputId": "4ec052c4-166f-4e92-bf00-0eafba25e0df"
      },
      "source": [
        "# Check\n",
        "has_33([1, 3, 1, 3])"
      ],
      "execution_count": 321,
      "outputs": [
        {
          "output_type": "execute_result",
          "data": {
            "text/plain": [
              "False"
            ]
          },
          "metadata": {
            "tags": []
          },
          "execution_count": 321
        }
      ]
    },
    {
      "cell_type": "code",
      "metadata": {
        "collapsed": true,
        "colab": {
          "base_uri": "https://localhost:8080/"
        },
        "id": "t03mUqishPId",
        "outputId": "6beab431-d020-4609-9ba0-c9091e56b7b9"
      },
      "source": [
        "# Check\n",
        "has_33([3, 1, 3])"
      ],
      "execution_count": 322,
      "outputs": [
        {
          "output_type": "execute_result",
          "data": {
            "text/plain": [
              "False"
            ]
          },
          "metadata": {
            "tags": []
          },
          "execution_count": 322
        }
      ]
    },
    {
      "cell_type": "markdown",
      "metadata": {
        "id": "gUlCavuihPId"
      },
      "source": [
        "#### PAPER DOLL: Given a string, return a string where for every character in the original there are three characters\n",
        "    paper_doll('Hello') --> 'HHHeeellllllooo'\n",
        "    paper_doll('Mississippi') --> 'MMMiiissssssiiippppppiii'"
      ]
    },
    {
      "cell_type": "code",
      "metadata": {
        "collapsed": true,
        "id": "XiwMzVBahPId"
      },
      "source": [
        "def paper_doll(text):\n",
        "  my_list = []\n",
        "  for i in text:\n",
        "    i = i*3\n",
        "    my_list.append(i)\n",
        "  my_list = \"\".join(my_list)\n",
        "  print(my_list)"
      ],
      "execution_count": 423,
      "outputs": []
    },
    {
      "cell_type": "code",
      "metadata": {
        "collapsed": true,
        "colab": {
          "base_uri": "https://localhost:8080/"
        },
        "id": "PgOgkVFYhPId",
        "outputId": "93466c44-6373-4096-c149-d08b54e39077"
      },
      "source": [
        "# Check\n",
        "paper_doll('Hello')"
      ],
      "execution_count": 424,
      "outputs": [
        {
          "output_type": "stream",
          "text": [
            "HHHeeellllllooo\n"
          ],
          "name": "stdout"
        }
      ]
    },
    {
      "cell_type": "code",
      "metadata": {
        "collapsed": true,
        "colab": {
          "base_uri": "https://localhost:8080/"
        },
        "id": "hPFjvdFAhPIe",
        "outputId": "a9dc4185-b48e-4a3c-8bcc-f50e0150f4a2"
      },
      "source": [
        "# Check\n",
        "paper_doll('Mississippi')"
      ],
      "execution_count": 425,
      "outputs": [
        {
          "output_type": "stream",
          "text": [
            "MMMiiissssssiiissssssiiippppppiii\n"
          ],
          "name": "stdout"
        }
      ]
    },
    {
      "cell_type": "markdown",
      "metadata": {
        "id": "gcWBb3TvhPIe"
      },
      "source": [
        "#### BLACKJACK: Given three integers between 1 and 11, if their sum is less than or equal to 21, return their sum. If their sum exceeds 21 *and* there's an eleven, reduce the total sum by 10. Finally, if the sum (even after adjustment) exceeds 21, return 'BUST'\n",
        "    blackjack(5,6,7) --> 18\n",
        "    blackjack(9,9,9) --> 'BUST'\n",
        "    blackjack(9,9,11) --> 19"
      ]
    },
    {
      "cell_type": "code",
      "metadata": {
        "collapsed": true,
        "id": "v7tfoBddhPIe"
      },
      "source": [
        "def blackjack(a,b,c):\n",
        "  sum = a+b+c\n",
        "  if sum >21 and a == 11 or b == 11 or c == 11:\n",
        "        sum -=10\n",
        "  if sum > 21:\n",
        "        return 'BUST'\n",
        "  if sum <= 21:\n",
        "        return sum"
      ],
      "execution_count": 463,
      "outputs": []
    },
    {
      "cell_type": "code",
      "metadata": {
        "collapsed": true,
        "colab": {
          "base_uri": "https://localhost:8080/"
        },
        "id": "Clx0NScfhPIe",
        "outputId": "274a44de-df38-4598-882d-b5a3122b7bcd"
      },
      "source": [
        "# Check\n",
        "blackjack(5,6,7)"
      ],
      "execution_count": 456,
      "outputs": [
        {
          "output_type": "execute_result",
          "data": {
            "text/plain": [
              "18"
            ]
          },
          "metadata": {
            "tags": []
          },
          "execution_count": 456
        }
      ]
    },
    {
      "cell_type": "code",
      "metadata": {
        "collapsed": true,
        "colab": {
          "base_uri": "https://localhost:8080/",
          "height": 35
        },
        "id": "Dthw7w-YhPIe",
        "outputId": "af9e5824-2104-4477-932b-26044af12e89"
      },
      "source": [
        "# Check\n",
        "blackjack(9,9,9)"
      ],
      "execution_count": 462,
      "outputs": [
        {
          "output_type": "execute_result",
          "data": {
            "application/vnd.google.colaboratory.intrinsic+json": {
              "type": "string"
            },
            "text/plain": [
              "'BUST'"
            ]
          },
          "metadata": {
            "tags": []
          },
          "execution_count": 462
        }
      ]
    },
    {
      "cell_type": "code",
      "metadata": {
        "collapsed": true,
        "colab": {
          "base_uri": "https://localhost:8080/"
        },
        "id": "e9fpRh1jhPIe",
        "outputId": "699cd8ae-5605-40a7-bcd2-f11a79a0c61e"
      },
      "source": [
        "# Check\n",
        "blackjack(9,9,11)"
      ],
      "execution_count": 458,
      "outputs": [
        {
          "output_type": "execute_result",
          "data": {
            "text/plain": [
              "19"
            ]
          },
          "metadata": {
            "tags": []
          },
          "execution_count": 458
        }
      ]
    },
    {
      "cell_type": "markdown",
      "metadata": {
        "id": "XqItZK2ThPIe"
      },
      "source": [
        "#### SUMMER OF '69: Return the sum of the numbers in the array, except ignore sections of numbers starting with a 6 and extending to the next 9 (every 6 will be followed by at least one 9). Return 0 for no numbers.\n",
        " \n",
        "    summer_69([1, 3, 5]) --> 9\n",
        "    summer_69([4, 5, 6, 7, 8, 9]) --> 9\n",
        "    summer_69([2, 1, 6, 9, 11]) --> 14"
      ]
    },
    {
      "cell_type": "code",
      "metadata": {
        "collapsed": true,
        "id": "1MYJX0DNhPIf"
      },
      "source": [
        "def summer_69(arr):\n",
        "  for x in arr:\n",
        "        if 6 in arr:\n",
        "            a = arr.index(6)\n",
        "            b = arr.index(9)\n",
        "            del arr[a:b+1]\n",
        "            y = arr\n",
        "        else:\n",
        "            return sum(arr)\n",
        "        return sum(y)\n"
      ],
      "execution_count": 494,
      "outputs": []
    },
    {
      "cell_type": "code",
      "metadata": {
        "collapsed": true,
        "colab": {
          "base_uri": "https://localhost:8080/"
        },
        "id": "Xz0wbVYBhPIf",
        "outputId": "6b005057-e508-4872-89f8-e5c2ad2a7f5b"
      },
      "source": [
        "# Check\n",
        "summer_69([1, 3, 5])"
      ],
      "execution_count": 495,
      "outputs": [
        {
          "output_type": "execute_result",
          "data": {
            "text/plain": [
              "9"
            ]
          },
          "metadata": {
            "tags": []
          },
          "execution_count": 495
        }
      ]
    },
    {
      "cell_type": "code",
      "metadata": {
        "collapsed": true,
        "colab": {
          "base_uri": "https://localhost:8080/"
        },
        "id": "29HdFR1QhPIf",
        "outputId": "e2c065a9-816c-422e-c7ce-296f64ad2f15"
      },
      "source": [
        "# Check\n",
        "summer_69([4, 5, 6, 7, 8, 9])"
      ],
      "execution_count": 496,
      "outputs": [
        {
          "output_type": "execute_result",
          "data": {
            "text/plain": [
              "9"
            ]
          },
          "metadata": {
            "tags": []
          },
          "execution_count": 496
        }
      ]
    },
    {
      "cell_type": "code",
      "metadata": {
        "collapsed": true,
        "colab": {
          "base_uri": "https://localhost:8080/"
        },
        "id": "eSmr_Rh4hPIf",
        "outputId": "49258301-5cab-4b33-dd23-4e5b740d02fc"
      },
      "source": [
        "# Check\n",
        "summer_69([2, 1, 6, 9, 11])"
      ],
      "execution_count": 497,
      "outputs": [
        {
          "output_type": "execute_result",
          "data": {
            "text/plain": [
              "14"
            ]
          },
          "metadata": {
            "tags": []
          },
          "execution_count": 497
        }
      ]
    },
    {
      "cell_type": "markdown",
      "metadata": {
        "id": "VtKGilWshPIf"
      },
      "source": [
        "# CHALLENGING PROBLEMS"
      ]
    },
    {
      "cell_type": "markdown",
      "metadata": {
        "id": "Rbctnu0HhPIf"
      },
      "source": [
        "#### SPY GAME: Write a function that takes in a list of integers and returns True if it contains 007 in order\n",
        "\n",
        "     spy_game([1,2,4,0,0,7,5]) --> True\n",
        "     spy_game([1,0,2,4,0,5,7]) --> True\n",
        "     spy_game([1,7,2,0,4,5,0]) --> False\n"
      ]
    },
    {
      "cell_type": "code",
      "metadata": {
        "collapsed": true,
        "id": "d8Z15gIYhPIg"
      },
      "source": [
        "def spy_game(nums):\n",
        "  for i in range(len(nums)):\n",
        "    if [0,0,7] == nums[i:i+3]:\n",
        "      return True\n",
        "  return False"
      ],
      "execution_count": 549,
      "outputs": []
    },
    {
      "cell_type": "code",
      "metadata": {
        "collapsed": true,
        "colab": {
          "base_uri": "https://localhost:8080/"
        },
        "id": "coRGXvvyhPIg",
        "outputId": "7e8c9f3f-a10f-4d11-d94b-4743ecd58a31"
      },
      "source": [
        "# Check\n",
        "spy_game([1,2,4,0,0,7,5])"
      ],
      "execution_count": 550,
      "outputs": [
        {
          "output_type": "execute_result",
          "data": {
            "text/plain": [
              "True"
            ]
          },
          "metadata": {
            "tags": []
          },
          "execution_count": 550
        }
      ]
    },
    {
      "cell_type": "code",
      "metadata": {
        "id": "rw02-hiPM3a6"
      },
      "source": [
        ""
      ],
      "execution_count": null,
      "outputs": []
    },
    {
      "cell_type": "code",
      "metadata": {
        "collapsed": true,
        "colab": {
          "base_uri": "https://localhost:8080/"
        },
        "id": "U5-z5AvphPIg",
        "outputId": "37e87b8f-8756-4822-b5a5-56ee25704c43"
      },
      "source": [
        "# Check\n",
        "spy_game([1,0,2,4,0,5,7])"
      ],
      "execution_count": 551,
      "outputs": [
        {
          "output_type": "execute_result",
          "data": {
            "text/plain": [
              "False"
            ]
          },
          "metadata": {
            "tags": []
          },
          "execution_count": 551
        }
      ]
    },
    {
      "cell_type": "code",
      "metadata": {
        "collapsed": true,
        "colab": {
          "base_uri": "https://localhost:8080/"
        },
        "id": "nU_NgYF0hPIg",
        "outputId": "aca587b9-fa41-4646-d21d-fab9ba0b8454"
      },
      "source": [
        "# Check\n",
        "spy_game([1,7,2,0,4,5,0])"
      ],
      "execution_count": 548,
      "outputs": [
        {
          "output_type": "execute_result",
          "data": {
            "text/plain": [
              "False"
            ]
          },
          "metadata": {
            "tags": []
          },
          "execution_count": 548
        }
      ]
    },
    {
      "cell_type": "markdown",
      "metadata": {
        "id": "sUAwxaMzhPIg"
      },
      "source": [
        "#### COUNT PRIMES: Write a function that returns the *number* of prime numbers that exist up to and including a given number\n",
        "    count_primes(100) --> 25\n",
        "\n",
        "By convention, 0 and 1 are not prime."
      ]
    },
    {
      "cell_type": "code",
      "metadata": {
        "collapsed": true,
        "colab": {
          "base_uri": "https://localhost:8080/",
          "height": 128
        },
        "id": "cFpgN6BVhPIg",
        "outputId": "5c991069-860b-4dd7-9fc1-8b96e6ae78bd"
      },
      "source": [
        "def count_primes(num):\n",
        "    count_primes = 0\n",
        "    if num > 1:\n",
        "      for x in range(2,num):\n",
        "        if (num % x != 0):\n",
        "          count_primes += 1\n",
        "   return count_primes in range(x,num)\n",
        "\n",
        "      \n",
        "                "
      ],
      "execution_count": 563,
      "outputs": [
        {
          "output_type": "error",
          "ename": "IndentationError",
          "evalue": "ignored",
          "traceback": [
            "\u001b[0;36m  File \u001b[0;32m\"<ipython-input-563-4f49dd6988c6>\"\u001b[0;36m, line \u001b[0;32m7\u001b[0m\n\u001b[0;31m    return count_primes in range(x,num)\u001b[0m\n\u001b[0m                                       ^\u001b[0m\n\u001b[0;31mIndentationError\u001b[0m\u001b[0;31m:\u001b[0m unindent does not match any outer indentation level\n"
          ]
        }
      ]
    },
    {
      "cell_type": "code",
      "metadata": {
        "collapsed": true,
        "colab": {
          "base_uri": "https://localhost:8080/"
        },
        "id": "gJOlNOl-hPIg",
        "outputId": "ccd0e9b2-bdb1-4135-d690-f88414b02c1f"
      },
      "source": [
        "# Check\n",
        "count_primes(100)"
      ],
      "execution_count": 561,
      "outputs": [
        {
          "output_type": "execute_result",
          "data": {
            "text/plain": [
              "False"
            ]
          },
          "metadata": {
            "tags": []
          },
          "execution_count": 561
        }
      ]
    },
    {
      "cell_type": "markdown",
      "metadata": {
        "id": "gu42m1tyhPIh"
      },
      "source": [
        "### Just for fun:\n",
        "#### PRINT BIG: Write a function that takes in a single letter, and returns a 5x5 representation of that letter\n",
        "    print_big('a')\n",
        "    \n",
        "    out:   *  \n",
        "          * *\n",
        "         *****\n",
        "         *   *\n",
        "         *   *\n",
        "HINT: Consider making a dictionary of possible patterns, and mapping the alphabet to specific 5-line combinations of patterns. <br>For purposes of this exercise, it's ok if your dictionary stops at \"E\"."
      ]
    },
    {
      "cell_type": "code",
      "metadata": {
        "collapsed": true,
        "id": "eb1hi8p0hPIh"
      },
      "source": [
        "def print_big(letter):\n",
        "    pass"
      ],
      "execution_count": null,
      "outputs": []
    },
    {
      "cell_type": "code",
      "metadata": {
        "collapsed": true,
        "id": "d-2SORxlhPIh"
      },
      "source": [
        "print_big('a')"
      ],
      "execution_count": null,
      "outputs": []
    },
    {
      "cell_type": "markdown",
      "metadata": {
        "id": "eortgPrvhPIi"
      },
      "source": [
        "## Great Job!"
      ]
    }
  ]
}